{
 "cells": [
  {
   "cell_type": "markdown",
   "id": "d41a1580-dbd1-4feb-9b45-931715f35aeb",
   "metadata": {},
   "source": [
    "# Data Science Tools and Ecosystem\n"
   ]
  },
  {
   "cell_type": "markdown",
   "id": "54cb2df8-2bae-458c-a867-07c1c489cf9a",
   "metadata": {},
   "source": [
    "En esta parte se hablara bremente sobre las herramientas y ecosistema de la ciencia de datos"
   ]
  },
  {
   "cell_type": "markdown",
   "id": "5c807b0d-68aa-40dc-94e5-63875b5ec3e6",
   "metadata": {},
   "source": [
    "## Objetivo \n",
    "- Listar lenguajes populares para Ciencia de Datos.\n",
    "- Bibliotecas comunes utilizadas\n",
    "- Realizar conversiones de en tiempo\n",
    "- Relizar evaluacion de expresiones\n"
   ]
  },
  {
   "cell_type": "markdown",
   "id": "ca820ccf-8a78-4249-adb8-d847d3a93aa9",
   "metadata": {},
   "source": [
    "Algunos de los lenguajes que utilizan ls cientificos de datos son:\n",
    "1. R\n",
    "2. Python\n",
    "3. Julia"
   ]
  },
  {
   "cell_type": "markdown",
   "id": "9b990150-33db-4507-8c1a-22f31b535a81",
   "metadata": {},
   "source": [
    "Algunas de las bibliotecas comúnmente utilizadas por los científicos de datos incluyen:\n",
    "1. ggplot2\n",
    "2. Pandas\n",
    "3. caret\n",
    "4. Scipy "
   ]
  },
  {
   "cell_type": "markdown",
   "id": "9182698f-44ca-4fca-9434-a0d0b42201ba",
   "metadata": {},
   "source": [
    "|**Herramientas de Cienccias de Datos**|\n",
    "|--------------------------------------|\n",
    "|Rstudio                               |\n",
    "|Google Colab                          | \n",
    "|Anaconda                              |\n",
    "|______________________________________|"
   ]
  },
  {
   "cell_type": "markdown",
   "id": "14bdabd5-c132-4f16-ab04-2eca23ab324c",
   "metadata": {},
   "source": [
    "\n",
    "### A continuación, se presentan algunos ejemplos de evaluación de expresiones aritméticas en Python.\n",
    "- **Suma:** `5 + 3 = 8`\n",
    "- **Resta:** `10 - 4 = 6`\n",
    "- **Multiplicación:** `6 * 7 = 42`\n",
    "- **División:** `20 / 4 = 5.0`\n",
    "- **División entera:** `20 // 3 = 6`\n",
    "- **Módulo:** `20 % 3 = 2`\n",
    "- **Potenciación:** `2 ** 3 = 8`"
   ]
  },
  {
   "cell_type": "code",
   "execution_count": 19,
   "id": "4f661be8-dc17-4455-a302-d57bf767de5d",
   "metadata": {},
   "outputs": [
    {
     "data": {
      "text/plain": [
       "17"
      ]
     },
     "execution_count": 19,
     "metadata": {},
     "output_type": "execute_result"
    }
   ],
   "source": [
    "#Esta es una expresión aritmética simple para multiplicar y luego sumar enteros\n",
    "(3*4)+5"
   ]
  },
  {
   "cell_type": "code",
   "execution_count": 27,
   "id": "4493abdf-1a08-4a0d-bd56-0f333df72fed",
   "metadata": {},
   "outputs": [
    {
     "name": "stdout",
     "output_type": "stream",
     "text": [
      "3.3333333333333335\n"
     ]
    }
   ],
   "source": [
    "#Esto convertirá 200 minutos a horas\n",
    "res=200/60\n",
    "print(res)\n"
   ]
  },
  {
   "cell_type": "markdown",
   "id": "32f8f07d-c6c8-4264-80b4-95d453c4b3ed",
   "metadata": {},
   "source": [
    "## Autor\n",
    "Alvaro Rodriguez"
   ]
  }
 ],
 "metadata": {
  "kernelspec": {
   "display_name": "Python [conda env:base] *",
   "language": "python",
   "name": "conda-base-py"
  },
  "language_info": {
   "codemirror_mode": {
    "name": "ipython",
    "version": 3
   },
   "file_extension": ".py",
   "mimetype": "text/x-python",
   "name": "python",
   "nbconvert_exporter": "python",
   "pygments_lexer": "ipython3",
   "version": "3.12.7"
  }
 },
 "nbformat": 4,
 "nbformat_minor": 5
}
